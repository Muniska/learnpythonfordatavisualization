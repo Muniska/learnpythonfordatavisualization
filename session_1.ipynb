{
 "cells": [
  {
   "cell_type": "code",
   "execution_count": 6,
   "metadata": {},
   "outputs": [
    {
     "data": {
      "text/plain": [
       "0"
      ]
     },
     "execution_count": 6,
     "metadata": {},
     "output_type": "execute_result"
    }
   ],
   "source": [
    "9%3\n"
   ]
  },
  {
   "cell_type": "code",
   "execution_count": 7,
   "metadata": {},
   "outputs": [
    {
     "data": {
      "text/plain": [
       "1"
      ]
     },
     "execution_count": 7,
     "metadata": {},
     "output_type": "execute_result"
    }
   ],
   "source": [
    "9%4"
   ]
  },
  {
   "cell_type": "code",
   "execution_count": 8,
   "metadata": {},
   "outputs": [
    {
     "data": {
      "text/plain": [
       "4"
      ]
     },
     "execution_count": 8,
     "metadata": {},
     "output_type": "execute_result"
    }
   ],
   "source": [
    "9//2\n"
   ]
  },
  {
   "cell_type": "code",
   "execution_count": 9,
   "metadata": {},
   "outputs": [
    {
     "name": "stdout",
     "output_type": "stream",
     "text": [
      "Hens 30.0\n"
     ]
    }
   ],
   "source": [
    "print(\"Hens\", 25 + 30 / 6)"
   ]
  },
  {
   "cell_type": "code",
   "execution_count": 11,
   "metadata": {},
   "outputs": [
    {
     "name": "stdout",
     "output_type": "stream",
     "text": [
      "Hens 30.0 too many?\n"
     ]
    }
   ],
   "source": [
    "print(\"Hens\", 25 + 30 / 6, \"too many?\")"
   ]
  },
  {
   "cell_type": "code",
   "execution_count": 14,
   "metadata": {},
   "outputs": [
    {
     "name": "stdout",
     "output_type": "stream",
     "text": [
      "Hens 30.0 too many?\n"
     ]
    }
   ],
   "source": [
    "print(\"Hens\", str(25 + 30 / 6), \"too many?\")"
   ]
  },
  {
   "cell_type": "code",
   "execution_count": 15,
   "metadata": {},
   "outputs": [
    {
     "name": "stdout",
     "output_type": "stream",
     "text": [
      "I am 35 years old\n"
     ]
    }
   ],
   "source": [
    "print(\"I am\", 30+5, \"years old\")"
   ]
  },
  {
   "cell_type": "code",
   "execution_count": 16,
   "metadata": {},
   "outputs": [
    {
     "name": "stdout",
     "output_type": "stream",
     "text": [
      "False\n"
     ]
    }
   ],
   "source": [
    "print(3 + 2 < 5 - 7)"
   ]
  },
  {
   "cell_type": "code",
   "execution_count": 17,
   "metadata": {},
   "outputs": [
    {
     "name": "stdout",
     "output_type": "stream",
     "text": [
      "What is 3 + 2? 5\n"
     ]
    }
   ],
   "source": [
    "print(\"What is 3 + 2?\", 3 + 2)"
   ]
  },
  {
   "cell_type": "code",
   "execution_count": 18,
   "metadata": {},
   "outputs": [
    {
     "name": "stdout",
     "output_type": "stream",
     "text": [
      "Is it greater? True\n"
     ]
    }
   ],
   "source": [
    "print(\"Is it greater?\", 5 > -2)"
   ]
  },
  {
   "cell_type": "code",
   "execution_count": 19,
   "metadata": {},
   "outputs": [
    {
     "name": "stdout",
     "output_type": "stream",
     "text": [
      "Is it greater or equal? True\n",
      "Is it less or equal? False\n"
     ]
    }
   ],
   "source": [
    "print(\"Is it greater or equal?\", 5 >= -2)\n",
    "print(\"Is it less or equal?\", 5 <= -2)"
   ]
  },
  {
   "cell_type": "code",
   "execution_count": 30,
   "metadata": {},
   "outputs": [
    {
     "name": "stdout",
     "output_type": "stream",
     "text": [
      "There are 71 candidates in total.\n",
      "Only around 48 of them will remain after Week 4.\n",
      "So the number of dropouts by Week 4 could be 23 or more\n",
      "Top 10 most active participants will win prizes.\n",
      "Each project group will consist of 3 participants.\n",
      "There will be approximately 16.0 on this course.\n",
      "The maximum possible score is 600 on this course.\n"
     ]
    }
   ],
   "source": [
    "candidates = 71\n",
    "available_places = 48\n",
    "dropouts = 23\n",
    "prize_winners = 10\n",
    "project_group_size = 3 \n",
    "project_groups = available_places/project_group_size\n",
    "sessions = 12\n",
    "tokens_per_session = 50\n",
    "maximum_score_possible = sessions * tokens_per_session\n",
    "\n",
    "\n",
    "print(\"There are\", candidates, \"candidates in total.\" )\n",
    "print(\"Only around\", available_places, \"of them will remain after Week 4.\")\n",
    "print(\"So the number of dropouts by Week 4 could be\", dropouts, \"or more\")\n",
    "print(\"Top\", prize_winners, \"most active participants will win prizes.\")\n",
    "print(\"Each project group will consist of\", project_group_size, \"participants.\")\n",
    "print(\"There will be approximately\",project_groups, \"on this course.\")\n",
    "print(\"The maximum possible score is\", maximum_score_possible, \"on this course.\")"
   ]
  },
  {
   "cell_type": "code",
   "execution_count": 37,
   "metadata": {},
   "outputs": [
    {
     "name": "stdout",
     "output_type": "stream",
     "text": [
      "Let's talk about Qobiljon Yunusov.\n",
      "He's 68 inches tall.\n",
      "He's 165 pounds heavy.\n",
      "Actually that's not too heavy.\n",
      "He's got dark eyes and dark hair.\n",
      "His physique is usually athletic depending on how often he exercises.\n",
      "If I add 35, 68, and 165 I get 268.\n"
     ]
    }
   ],
   "source": [
    "my_name = 'Qobiljon Yunusov'\n",
    "my_age = 35 # I could be lying\n",
    "my_height = 68 # inches\n",
    "my_weight = 165 # lbs\n",
    "my_eyes = 'dark'\n",
    "my_physique = 'athletic'\n",
    "my_hair = 'dark'\n",
    "\n",
    "print(f\"Let's talk about {my_name}.\")\n",
    "print(f\"He's {my_height} inches tall.\")\n",
    "print(f\"He's {my_weight} pounds heavy.\")\n",
    "print(\"Actually that's not too heavy.\")\n",
    "print(f\"He's got {my_eyes} eyes and {my_hair} hair.\")\n",
    "print(f\"His physique is usually {my_physique} depending on how often he exercises.\")\n",
    "\n",
    "# this line is tricky, try to get it exactly right\n",
    "total = my_age + my_height + my_weight\n",
    "print(f\"If I add {my_age}, {my_height}, and {my_weight} I get {total}.\")"
   ]
  },
  {
   "cell_type": "code",
   "execution_count": 1,
   "metadata": {
    "scrolled": false
   },
   "outputs": [
    {
     "name": "stdout",
     "output_type": "stream",
     "text": [
      "type whatever you want\n"
     ]
    }
   ],
   "source": [
    "print(\"type whatever you want\")"
   ]
  },
  {
   "cell_type": "code",
   "execution_count": 2,
   "metadata": {},
   "outputs": [
    {
     "name": "stdout",
     "output_type": "stream",
     "text": [
      "type whatever\n"
     ]
    }
   ],
   "source": [
    "print(\"type whatever\")"
   ]
  },
  {
   "cell_type": "code",
   "execution_count": 4,
   "metadata": {},
   "outputs": [
    {
     "name": "stdout",
     "output_type": "stream",
     "text": [
      "Here is hundred 100\n"
     ]
    }
   ],
   "source": [
    "print(\"Here is hundred\", 100)"
   ]
  },
  {
   "cell_type": "code",
   "execution_count": 5,
   "metadata": {},
   "outputs": [
    {
     "name": "stdout",
     "output_type": "stream",
     "text": [
      "I am 25 years old\n"
     ]
    }
   ],
   "source": [
    "print(\"I am\", 25, \"years old\")"
   ]
  },
  {
   "cell_type": "code",
   "execution_count": 14,
   "metadata": {},
   "outputs": [
    {
     "name": "stdout",
     "output_type": "stream",
     "text": [
      "25\n"
     ]
    }
   ],
   "source": [
    "age = 25\n",
    "age_string = str(age)\n",
    "print(age_string)"
   ]
  },
  {
   "cell_type": "code",
   "execution_count": 15,
   "metadata": {},
   "outputs": [
    {
     "data": {
      "text/plain": [
       "str"
      ]
     },
     "execution_count": 15,
     "metadata": {},
     "output_type": "execute_result"
    }
   ],
   "source": [
    "type(age_string)"
   ]
  },
  {
   "cell_type": "code",
   "execution_count": 16,
   "metadata": {},
   "outputs": [
    {
     "ename": "TypeError",
     "evalue": "can only concatenate str (not \"int\") to str",
     "output_type": "error",
     "traceback": [
      "\u001b[1;31m---------------------------------------------------------------------------\u001b[0m",
      "\u001b[1;31mTypeError\u001b[0m                                 Traceback (most recent call last)",
      "\u001b[1;32m<ipython-input-16-aa03cc0edfe6>\u001b[0m in \u001b[0;36m<module>\u001b[1;34m\u001b[0m\n\u001b[1;32m----> 1\u001b[1;33m \u001b[0mprint\u001b[0m\u001b[1;33m(\u001b[0m\u001b[0mage_string\u001b[0m \u001b[1;33m+\u001b[0m\u001b[1;36m5\u001b[0m\u001b[1;33m)\u001b[0m\u001b[1;33m\u001b[0m\u001b[1;33m\u001b[0m\u001b[0m\n\u001b[0m",
      "\u001b[1;31mTypeError\u001b[0m: can only concatenate str (not \"int\") to str"
     ]
    }
   ],
   "source": [
    "print(age_string +5)"
   ]
  },
  {
   "cell_type": "code",
   "execution_count": null,
   "metadata": {},
   "outputs": [],
   "source": []
  }
 ],
 "metadata": {
  "kernelspec": {
   "display_name": "Python 3",
   "language": "python",
   "name": "python3"
  },
  "language_info": {
   "codemirror_mode": {
    "name": "ipython",
    "version": 3
   },
   "file_extension": ".py",
   "mimetype": "text/x-python",
   "name": "python",
   "nbconvert_exporter": "python",
   "pygments_lexer": "ipython3",
   "version": "3.8.5"
  }
 },
 "nbformat": 4,
 "nbformat_minor": 4
}
