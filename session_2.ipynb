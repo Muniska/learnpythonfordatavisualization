{
 "cells": [
  {
   "cell_type": "code",
   "execution_count": 4,
   "metadata": {},
   "outputs": [
    {
     "name": "stdout",
     "output_type": "stream",
     "text": [
      "2 things can happen to your code.\n",
      "It either works or it doesn't work.\n"
     ]
    }
   ],
   "source": [
    "# strings and text, and printing stuff\n",
    "\n",
    "things_Can_Happen_To_Code = 2\n",
    "x = f\"{things_Can_Happen_To_Code} things can happen to your code.\"\n",
    "\n",
    "scenario_1 = \"works\"\n",
    "scenario_2 = \"doesn't work\"\n",
    "y = f\"It either {scenario_1} or it {scenario_2}.\"\n",
    "\n",
    "print(x)\n",
    "print(y)"
   ]
  },
  {
   "cell_type": "code",
   "execution_count": 7,
   "metadata": {},
   "outputs": [
    {
     "name": "stdout",
     "output_type": "stream",
     "text": [
      "Mary had a little lamb.\n",
      "Its fleece was white as snow.\n",
      "And everywhere that Mary went.\n",
      "mary mary mary mary mary \n",
      "Cheese\n",
      "       Burger\n"
     ]
    }
   ],
   "source": [
    "# more printing stuff\n",
    "\n",
    "print(\"Mary had a little lamb.\")\n",
    "color = 'snow'\n",
    "print(\"Its fleece was white as {}.\".format(color))\n",
    "print(\"And everywhere that Mary went.\")\n",
    "print(\"mary \" * 5) # what'd that do?\n",
    "\n",
    "end1 = \"C\"\n",
    "end2 = \"h\"\n",
    "end3 = \"e\"\n",
    "end4 = \"e\"\n",
    "end5 = \"s\"\n",
    "end6 = \"e\"\n",
    "end7 = \"B\"\n",
    "end8 = \"u\"\n",
    "end9 = \"r\"\n",
    "end10 = \"g\"\n",
    "end11 = \"e\"\n",
    "end12 = \"r\"\n",
    "\n",
    "# watch end = ' ' at the end. try removing it to see what happens\n",
    "print(end1 + end2 + end3 + end4 + end5 + end6, end ='\\n       ')\n",
    "print(end7 + end8 + end9 + end10 + end11 + end12)"
   ]
  },
  {
   "cell_type": "code",
   "execution_count": 77,
   "metadata": {},
   "outputs": [
    {
     "name": "stdout",
     "output_type": "stream",
     "text": [
      "1 2 3 4 5\n",
      "one two three four five\n",
      "True False False True False\n",
      "{} {} {} {} {} {} {} {} {} {} {} {} {} {} {} {} {} {} {} {} {} {} {} {} {}\n",
      "Try your Own sentence here Maybe a poem Or a story about the legendary Python snake ;) or a pet\n"
     ]
    }
   ],
   "source": [
    "# ex8\n",
    "\n",
    "formatter = \"{} {} {} {} {}\"\n",
    "\n",
    "print(formatter.format(1,2,3,4,5))\n",
    "print(formatter.format(\"one\", \"two\", \"three\", \"four\",\"five\"))\n",
    "print(formatter.format(True, False, False, True, False))\n",
    "print(formatter.format(formatter, formatter, formatter, formatter, formatter))\n",
    "print(formatter.format(\n",
    "\"Try your\",\n",
    "\"Own sentence here\",\n",
    "\"Maybe a poem\",\n",
    "\"Or a story about the legendary Python snake ;)\",\n",
    "\"or a pet\"\n",
    "))\n"
   ]
  },
  {
   "cell_type": "code",
   "execution_count": 78,
   "metadata": {},
   "outputs": [
    {
     "name": "stdout",
     "output_type": "stream",
     "text": [
      "ABC 123 abc 987 #$%\n"
     ]
    }
   ],
   "source": [
    "# password holder\n",
    "password = \"{} {} {} {} {}\"\n",
    "print(password.format(\"ABC\", \"123\", \"abc\", \"987\", \"#$%\"))"
   ]
  },
  {
   "cell_type": "code",
   "execution_count": 79,
   "metadata": {},
   "outputs": [
    {
     "name": "stdout",
     "output_type": "stream",
     "text": [
      "Here are the days:  Mon Tue Wed Thu Fri Sat Sun\n",
      "Here are the months:  Jan\n",
      "Feb\n",
      "Mar\n",
      "Apr\n",
      "May\n",
      "Jun\n",
      "Jul\n",
      "Aug\n",
      "\n",
      "There's something going on here.\n",
      "With the three double-quotes.\n",
      "We'll be able to type as much as we like.\n",
      "Even 4 lines if we want, or 5, or 6.\n",
      "\n"
     ]
    }
   ],
   "source": [
    "# Here's some new strange stuff, remember type it exactly.\n",
    "\n",
    "days = \"Mon Tue Wed Thu Fri Sat Sun\"\n",
    "months = \"Jan\\nFeb\\nMar\\nApr\\nMay\\nJun\\nJul\\nAug\"\n",
    "\n",
    "print(\"Here are the days: \", days)\n",
    "print(\"Here are the months: \", months)\n",
    "\n",
    "print(\"\"\"\n",
    "There's something going on here.\n",
    "With the three double-quotes.\n",
    "We'll be able to type as much as we like.\n",
    "Even 4 lines if we want, or 5, or 6.\n",
    "\"\"\")"
   ]
  },
  {
   "cell_type": "code",
   "execution_count": 99,
   "metadata": {},
   "outputs": [
    {
     "name": "stdout",
     "output_type": "stream",
     "text": [
      "Here are the days: Mon Tue Wed Thu Fri Sat Sun\n",
      "Here are the days: Mon Tue Wed Thu Fri Sat Sun.\n",
      "Here are the months: \n",
      "Jan\n",
      "Feb\n",
      "Mar\n",
      "Apr\n",
      "May\n",
      "Jun\n",
      "Jul\n",
      "Aug\n",
      "Sep\n",
      "Oct\n",
      "Nov\n",
      "Dec\n",
      "\n",
      "Here are the months: \n",
      "Jan\n",
      "Feb\n",
      "Mar\n",
      "Apr\n",
      "May\n",
      "Jun\n",
      "Jul\n",
      "Aug\n",
      "Sep\n",
      "Oct\n",
      "Nov\n",
      "Dec.\n"
     ]
    }
   ],
   "source": [
    "days = \"Mon Tue Wed Thu Fri Sat Sun\"\n",
    "print(\"Here are the days:\", days)\n",
    "print(f\"Here are the days: {days}.\")\n",
    "\n",
    "months = \"\\nJan\\nFeb\\nMar\\nApr\\nMay\\nJun\\nJul\\nAug\\nSep\\nOct\\nNov\\nDec\"\n",
    "print(\"Here are the months:\", months)\n",
    "print(f\"\\nHere are the months: {months}.\")"
   ]
  },
  {
   "cell_type": "code",
   "execution_count": 95,
   "metadata": {},
   "outputs": [
    {
     "name": "stdout",
     "output_type": "stream",
     "text": [
      "You can type text/string\n",
      "    in multiple lines here,\n",
      "      without having to worry about \n",
      "                      the hash or pound sign \n",
      "  on each line of code\n",
      "\n"
     ]
    }
   ],
   "source": [
    "print (\"\"\"You can type text/string\n",
    "    in multiple lines here,\n",
    "      without having to worry about \n",
    "                      the hash or pound sign \n",
    "  on each line of code\n",
    "\"\"\")"
   ]
  },
  {
   "cell_type": "code",
   "execution_count": 20,
   "metadata": {},
   "outputs": [
    {
     "name": "stdout",
     "output_type": "stream",
     "text": [
      "I am 5'10\" tall.\n",
      "I am 5'10\" tall.\n",
      "My current geolocation is: 41°24'12.2\"N 2°10'26.5\"E\n",
      "My current geolocation is: 41°24'12.2\"N 2°10'26.5\"E\n"
     ]
    }
   ],
   "source": [
    "print(\"I am 5'10\\\" tall.\") # escape double-quote inside string\n",
    "print('I am 5\\'10\" tall.') # escape single-quote inside string\n",
    "print('My current geolocation is: 41°24\\'12.2\"N 2°10\\'26.5\"E') # this is a complex one!\n",
    "print(\"My current geolocation is: 41°24'12.2\\\"N 2°10'26.5\\\"E\") # this is a complex one!"
   ]
  },
  {
   "cell_type": "code",
   "execution_count": 114,
   "metadata": {},
   "outputs": [
    {
     "name": "stdout",
     "output_type": "stream",
     "text": [
      "\tI'm tabbed in.\n",
      "I'm split\n",
      " on a line.\n",
      "I'm \\ a \\ cat.\n",
      "\n",
      "I'll do a shopping list:\n",
      "\t* Groceries \n",
      "\t\tVeggies\n",
      "\t* Cleaning goods \n",
      "\t\tLiquid soap\n",
      "\t* Kitchenware\n",
      "\t* \tToaster\n",
      "\n"
     ]
    }
   ],
   "source": [
    "lazy_cat = \"\\tI'm tabbed in.\"\n",
    "trapped_mouse = \"I'm split\\n on a line.\"\n",
    "awkward_dog = \"I'm \\\\ a \\\\ cat.\"\n",
    "\n",
    "shopping_list = \"\"\"\n",
    "I'll do a shopping list:\n",
    "\\t* Groceries \\n\\t\\tVeggies\n",
    "\\t* Cleaning goods \\n\\t\\tLiquid soap\n",
    "\\t* Kitchenware\\n\\t* \\tToaster\n",
    "\"\"\"\n",
    "\n",
    "print(lazy_cat)\n",
    "print(trapped_mouse)\n",
    "print(awkward_dog)\n",
    "print(shopping_list)"
   ]
  },
  {
   "cell_type": "code",
   "execution_count": 133,
   "metadata": {},
   "outputs": [
    {
     "name": "stdout",
     "output_type": "stream",
     "text": [
      "Hey! How old are you in solar years? 36\n",
      "How tall are you in cm? 174\n",
      "How much do you weigh in kg? 75\n",
      "So, you're 36 years old, 174 cm tall and 75 kg heavy.\n"
     ]
    }
   ],
   "source": [
    "# using input() function to get user input\n",
    "print(\"Hey! How old are you in solar years?\", end=' ')\n",
    "age = input()\n",
    "print(\"How tall are you in cm?\", end=' ')\n",
    "height = input()\n",
    "print(\"How much do you weigh in kg?\", end=' ')\n",
    "weight = input()\n",
    "\n",
    "print(f\"So, you're {age} years old, {height} cm tall and {weight} kg heavy.\")"
   ]
  },
  {
   "cell_type": "code",
   "execution_count": 136,
   "metadata": {},
   "outputs": [
    {
     "name": "stdout",
     "output_type": "stream",
     "text": [
      "Whatever I type here will show on the screen!haha\n",
      "haha\n"
     ]
    }
   ],
   "source": [
    "a = input(\"Whatever I type here will show on the screen!\")\n",
    "print(a)"
   ]
  },
  {
   "cell_type": "code",
   "execution_count": 152,
   "metadata": {},
   "outputs": [
    {
     "name": "stdout",
     "output_type": "stream",
     "text": [
      "arg1: Qobil, arg2: Yunusov\n",
      "arg1: Qobil, arg2: Yunusov\n",
      "arg1: First name.\n",
      "oops \n"
     ]
    }
   ],
   "source": [
    "# this one is like your scripts with argv\n",
    "def print_two(*args):\n",
    "    arg1, arg2 = args\n",
    "    print(f\"arg1: {arg1}, arg2: {arg2}\")\n",
    "\n",
    "# ok, that *args is actually pointless, we can just do this\n",
    "def print_two_again(arg1, arg2):\n",
    "    print(f\"arg1: {arg1}, arg2: {arg2}\")\n",
    "\n",
    "# this just takes one argument\n",
    "def print_one(arg1):\n",
    "    print(f\"arg1: {arg1}\")\n",
    "\n",
    "# this one takes no arguments\n",
    "def print_none():\n",
    "    print(\"oops \")\n",
    "\n",
    "print_two(\"Qobil\",\"Yunusov\")\n",
    "print_two_again(\"Qobil\",\"Yunusov\")\n",
    "print_one(\"First name.\")\n",
    "print_none()\n"
   ]
  },
  {
   "cell_type": "code",
   "execution_count": null,
   "metadata": {},
   "outputs": [],
   "source": [
    "your_name = input(\"What is your name? \\n\\t\\tInput your name below:\")\n",
    "print(your_name)"
   ]
  },
  {
   "cell_type": "code",
   "execution_count": 11,
   "metadata": {},
   "outputs": [
    {
     "name": "stdout",
     "output_type": "stream",
     "text": [
      "Qobiljon Yunusov\n",
      "Qobiljon Yunusov\n"
     ]
    }
   ],
   "source": [
    "my_name = \"Qobiljon\"\n",
    "my_surname = \"Yunusov\"\n",
    "print(\"Qobiljon \"+\"Yunusov\")\n",
    "print(my_name,my_surname)"
   ]
  },
  {
   "cell_type": "code",
   "execution_count": 13,
   "metadata": {},
   "outputs": [
    {
     "name": "stdout",
     "output_type": "stream",
     "text": [
      "\n",
      "gfgfg\n",
      "fdgfdgfdg\n",
      "  fdgdfgfd\n",
      "          fdgfdgfdg\n",
      "\n"
     ]
    }
   ],
   "source": [
    "comment = '''\n",
    "gfgfg\n",
    "fdgfdgfdg\n",
    "  fdgdfgfd\n",
    "          fdgfdgfdg\n",
    "'''\n",
    "\n",
    "print(comment)"
   ]
  },
  {
   "cell_type": "code",
   "execution_count": 14,
   "metadata": {},
   "outputs": [],
   "source": [
    "# comment"
   ]
  },
  {
   "cell_type": "code",
   "execution_count": null,
   "metadata": {},
   "outputs": [],
   "source": []
  }
 ],
 "metadata": {
  "kernelspec": {
   "display_name": "Python 3",
   "language": "python",
   "name": "python3"
  },
  "language_info": {
   "codemirror_mode": {
    "name": "ipython",
    "version": 3
   },
   "file_extension": ".py",
   "mimetype": "text/x-python",
   "name": "python",
   "nbconvert_exporter": "python",
   "pygments_lexer": "ipython3",
   "version": "3.8.5"
  }
 },
 "nbformat": 4,
 "nbformat_minor": 4
}
